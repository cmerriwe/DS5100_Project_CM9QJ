{
 "cells": [
  {
   "cell_type": "markdown",
   "id": "45762487-d33f-486d-8e38-2cdea04e3528",
   "metadata": {},
   "source": [
    "# Final Project Report\n",
    "\n",
    "* Class: DS 5100\n",
    "* Student Name: Chloe Merriweather\n",
    "* Student Net ID: cm9qj\n",
    "* This URL: a URL to the notebook source of this document"
   ]
  },
  {
   "cell_type": "markdown",
   "id": "acf756c1-ecaa-41dc-b6ca-d566eb94560b",
   "metadata": {},
   "source": [
    "# Instructions\n",
    "\n",
    "Follow the instructions in the Final Project isntructions notebook and put evidence of your work in this notebook.\n",
    "\n",
    "Total points for each subsection under **Deliverables** and **Scenarios** are given in parentheses.\n",
    "\n",
    "Breakdowns of points within subsections are specified within subsection instructions as bulleted lists.\n",
    "\n",
    "This project is worth **50 points**."
   ]
  },
  {
   "cell_type": "markdown",
   "id": "89dc7a32-f682-4402-8c1e-b6ccdb3e0e39",
   "metadata": {},
   "source": [
    "# Deliverables"
   ]
  },
  {
   "cell_type": "markdown",
   "id": "d32cb273-9a40-4909-a7ce-51f6e4958d3c",
   "metadata": {},
   "source": [
    "## The Monte Carlo Module (10)\n",
    "\n",
    "- URL included, appropriately named (1).\n",
    "- Includes all three specified classes (3).\n",
    "- Includes at least all 12 specified methods (6; .5 each)."
   ]
  },
  {
   "cell_type": "markdown",
   "id": "f5f3b070-de9e-4de9-bfae-8974d184aa28",
   "metadata": {},
   "source": [
    "Put the URL to your GitHub repo here.\n",
    "\n",
    "Repo URL: https://github.com/cmerriwe/DS5100_Project_CM9QJ"
   ]
  },
  {
   "cell_type": "markdown",
   "id": "162370fb-3729-4c85-b040-8c25b2c966d2",
   "metadata": {},
   "source": [
    "Paste a copyy of your module here.\n",
    "\n",
    "NOTE: Paste as text, not as code. Use triple backticks to wrap your code blocks."
   ]
  },
  {
   "cell_type": "code",
   "execution_count": 18,
   "id": "a0743efc-a785-4b5c-a9e6-b65d4507a67f",
   "metadata": {
    "tags": []
   },
   "outputs": [
    {
     "data": {
      "text/plain": [
       "'\\nclass Die:\\n    \"\"\"\\n    A die has N faces, each with an associated weight, and can be rolled.\\n    \"\"\"\\n\\n    def __init__(self, faces):\\n        \"\"\"\\n        Initialize a die with faces and default weights.\\n        \"\"\"\\n        if not isinstance(faces, (list, np.ndarray)):\\n            raise TypeError(\"Faces must be a list or array\")\\n        if len(set(faces)) != len(faces):\\n            raise ValueError(\"Faces must be unique.\")\\n\\n        self._df = pd.DataFrame({\\'face\\': faces, \\'weight\\': [1.0] * len(faces)})\\n\\n    def change_weight(self, face, weight):\\n        \"\"\"\\n        Change the weight for a single face.\\n        \"\"\"\\n        if face not in self._df[\\'face\\'].values:\\n            raise ValueError(\"Face not found.\")\\n        if not isinstance(weight, (int, float)) or weight <= 0:\\n            raise ValueError(\"Weight must be positive.\")\\n\\n        self._df.loc[self._df[\\'face\\'] == face, \\'weight\\'] = float(weight)\\n\\n    def roll(self, num_rolls=1):\\n        \"\"\"\\n        Roll the die one or more times.\\n        \"\"\"\\n        return list(self._df.sample(n=num_rolls, replace=True, weights=\\'weight\\')[\\'face\\'])\\n\\n    def show(self):\\n        return self._df.copy()\\n                                               \\n        \\nclass Game:\\n    \"\"\"\\n    A game consists of rolling one or more dice of the same kind.\\n    \"\"\"\\n    def __init__(self, dice):\\n        \"\"\"\\n        Initialize with a list of Die objects.\\n        \"\"\"\\n        if not all(isinstance(die, Die) for die in dice):\\n            raise TypeError(\"All dice must be Die instances.\")\\n        self.dice = dice\\n        self._results = None\\n\\n    def play(self, num_rolls):\\n        \"\"\"\\n        Roll all dice a specific amount of times.\\n        \"\"\"\\n        rolls = {f\\'die_{i}\\': die.roll(num_rolls) for i, die in enumerate(self.dice)}\\n        self._results = pd.DataFrame(rolls)\\n        self._results.index.name = \\'roll_number\\'\\n\\n    def show(self, form=\\'wide\\'):\\n        \"\"\"\\n        Display results in \\'wide\\' or \\'narrow\\' format.\\n        \"\"\"\\n        if self._results is None:\\n            raise ValueError(\"No game played yet.\")\\n        if form == \\'wide\\':\\n            return self._results.copy()\\n        elif form == \\'narrow\\':\\n            return self._results.stack().reset_index(name=\\'face\\')\\n        else:\\n            raise ValueError(\"Form must be \\'wide\\' or \\'narrow\\'.\")\\n\\n    def show_die(self, die_index=0):\\n        \"\"\"\\n        Show the faces and weights of a particular die.\\n        \"\"\"\\n        if not (0 <= die_index < len(self.dice)):\\n            raise IndexError(\"Die index out of range.\")\\n        return self.dice[die_index].show()\\n\\nclass Analyzer:\\n    \"\"\"\\n    Analyzes a game\\'s results.\\n    \"\"\"\\n\\n    def __init__(self, game):\\n        \"\"\"\\n        Initialize with a played Game object.\\n        \"\"\"\\n        if not isinstance(game, Game) or game._results is None:\\n            raise ValueError(\"Must provide a played Game.\")\\n        self.game = game\\n        self.results = game.show(\\'wide\\')\\n\\n    def jackpot(self):\\n        \"\"\"\\n        Return the number of rolls with all faces.\\n        \"\"\"\\n        is_jackpot = self.results.nunique(axis=1) == 1\\n        self._jackpot_df = self.results[is_jackpot]\\n        return int(is_jackpot.sum())\\n\\n    def combo(self):\\n        \"\"\"\\n        Return a dataframe of unique roll combinations and counts.\\n        \"\"\"\\n        combos = self.results.apply(lambda row: tuple(sorted(row)), axis=1)\\n        self._combo_df = combos.value_counts().to_frame(\\'count\\')\\n        return self._combo_df\\n\\n    def face_counts_per_roll(self):\\n        \"\"\"\\n        Return a dataframe showing with face counts per roll.\\n        \"\"\"\\n        self._face_counts_df = self.results.apply(lambda row: row.value_counts(), axis=1).fillna(0).astype(int)\\n        return self._face_counts_df\\n    def relative_frequency(self):\\n        \"\"\"\\n        Compute the relative frequency of jackpots as the number.\\n        \"\"\"\\n        jackpots = self.jackpot()\\n        total_rolls = len(self.results)\\n        return jackpots / total_rolls if total_rolls > 0 else 0\\n'"
      ]
     },
     "execution_count": 18,
     "metadata": {},
     "output_type": "execute_result"
    }
   ],
   "source": [
    "# A code block with your classes.\n",
    "import pandas as pd\n",
    "import numpy as np\n",
    "import random\n",
    "'''\n",
    "class Die:\n",
    "    \"\"\"\n",
    "    A die has N faces, each with an associated weight, and can be rolled.\n",
    "    \"\"\"\n",
    "\n",
    "    def __init__(self, faces):\n",
    "        \"\"\"\n",
    "        Initialize a die with faces and default weights.\n",
    "        \"\"\"\n",
    "        if not isinstance(faces, (list, np.ndarray)):\n",
    "            raise TypeError(\"Faces must be a list or array\")\n",
    "        if len(set(faces)) != len(faces):\n",
    "            raise ValueError(\"Faces must be unique.\")\n",
    "\n",
    "        self._df = pd.DataFrame({'face': faces, 'weight': [1.0] * len(faces)})\n",
    "\n",
    "    def change_weight(self, face, weight):\n",
    "        \"\"\"\n",
    "        Change the weight for a single face.\n",
    "        \"\"\"\n",
    "        if face not in self._df['face'].values:\n",
    "            raise ValueError(\"Face not found.\")\n",
    "        if not isinstance(weight, (int, float)) or weight <= 0:\n",
    "            raise ValueError(\"Weight must be positive.\")\n",
    "\n",
    "        self._df.loc[self._df['face'] == face, 'weight'] = float(weight)\n",
    "\n",
    "    def roll(self, num_rolls=1):\n",
    "        \"\"\"\n",
    "        Roll the die one or more times.\n",
    "        \"\"\"\n",
    "        return list(self._df.sample(n=num_rolls, replace=True, weights='weight')['face'])\n",
    "\n",
    "    def show(self):\n",
    "        return self._df.copy()\n",
    "                                               \n",
    "        \n",
    "class Game:\n",
    "    \"\"\"\n",
    "    A game consists of rolling one or more dice of the same kind.\n",
    "    \"\"\"\n",
    "    def __init__(self, dice):\n",
    "        \"\"\"\n",
    "        Initialize with a list of Die objects.\n",
    "        \"\"\"\n",
    "        if not all(isinstance(die, Die) for die in dice):\n",
    "            raise TypeError(\"All dice must be Die instances.\")\n",
    "        self.dice = dice\n",
    "        self._results = None\n",
    "\n",
    "    def play(self, num_rolls):\n",
    "        \"\"\"\n",
    "        Roll all dice a specific amount of times.\n",
    "        \"\"\"\n",
    "        rolls = {f'die_{i}': die.roll(num_rolls) for i, die in enumerate(self.dice)}\n",
    "        self._results = pd.DataFrame(rolls)\n",
    "        self._results.index.name = 'roll_number'\n",
    "\n",
    "    def show(self, form='wide'):\n",
    "        \"\"\"\n",
    "        Display results in 'wide' or 'narrow' format.\n",
    "        \"\"\"\n",
    "        if self._results is None:\n",
    "            raise ValueError(\"No game played yet.\")\n",
    "        if form == 'wide':\n",
    "            return self._results.copy()\n",
    "        elif form == 'narrow':\n",
    "            return self._results.stack().reset_index(name='face')\n",
    "        else:\n",
    "            raise ValueError(\"Form must be 'wide' or 'narrow'.\")\n",
    "\n",
    "    def show_die(self, die_index=0):\n",
    "        \"\"\"\n",
    "        Show the faces and weights of a particular die.\n",
    "        \"\"\"\n",
    "        if not (0 <= die_index < len(self.dice)):\n",
    "            raise IndexError(\"Die index out of range.\")\n",
    "        return self.dice[die_index].show()\n",
    "\n",
    "class Analyzer:\n",
    "    \"\"\"\n",
    "    Analyzes a game's results.\n",
    "    \"\"\"\n",
    "\n",
    "    def __init__(self, game):\n",
    "        \"\"\"\n",
    "        Initialize with a played Game object.\n",
    "        \"\"\"\n",
    "        if not isinstance(game, Game) or game._results is None:\n",
    "            raise ValueError(\"Must provide a played Game.\")\n",
    "        self.game = game\n",
    "        self.results = game.show('wide')\n",
    "\n",
    "    def jackpot(self):\n",
    "        \"\"\"\n",
    "        Return the number of rolls with all faces.\n",
    "        \"\"\"\n",
    "        is_jackpot = self.results.nunique(axis=1) == 1\n",
    "        self._jackpot_df = self.results[is_jackpot]\n",
    "        return int(is_jackpot.sum())\n",
    "\n",
    "    def combo(self):\n",
    "        \"\"\"\n",
    "        Return a dataframe of unique roll combinations and counts.\n",
    "        \"\"\"\n",
    "        combos = self.results.apply(lambda row: tuple(sorted(row)), axis=1)\n",
    "        self._combo_df = combos.value_counts().to_frame('count')\n",
    "        return self._combo_df\n",
    "\n",
    "    def face_counts_per_roll(self):\n",
    "        \"\"\"\n",
    "        Return a dataframe showing with face counts per roll.\n",
    "        \"\"\"\n",
    "        self._face_counts_df = self.results.apply(lambda row: row.value_counts(), axis=1).fillna(0).astype(int)\n",
    "        return self._face_counts_df\n",
    "    def relative_frequency(self):\n",
    "        \"\"\"\n",
    "        Compute the relative frequency of jackpots as the number.\n",
    "        \"\"\"\n",
    "        jackpots = self.jackpot()\n",
    "        total_rolls = len(self.results)\n",
    "        return jackpots / total_rolls if total_rolls > 0 else 0\n",
    "'''"
   ]
  },
  {
   "cell_type": "markdown",
   "id": "6377727a-8f0a-491e-9f1c-d9dc225edd35",
   "metadata": {},
   "source": [
    "## Unitest Module (2)\n",
    "\n",
    "Paste a copy of your test module below.\n",
    "\n",
    "NOTE: Paste as text, not as code. Use triple backticks to wrap your code blocks.\n",
    "\n",
    "- All methods have at least one test method (1).\n",
    "- Each method employs one of Unittest's Assert methods (1)."
   ]
  },
  {
   "cell_type": "code",
   "execution_count": 15,
   "id": "14b878d8-258b-4cf2-ad88-b8ee90d43977",
   "metadata": {},
   "outputs": [
    {
     "data": {
      "text/plain": [
       "\" import unittest\\nimport unittest\\nimport pandas as pd\\nfrom montecarlo import Die, Game, Analyzer\\n\\nclass TestDie(unittest.TestCase):\\n\\n    def setUp(self):\\n        self.die = Die([1, 2, 3])\\n\\n    def test_init(self):\\n        self.assertEqual(len(self.die.show()), 3)\\n\\n    def test_change_weight(self):\\n        self.die.change_weight(2, 3)\\n        updated_weight = self.die.show().loc[self.die.show()['face'] == 2, 'weight'].values[0]\\n        self.assertEqual(updated_weight, 3.5)\\n\\n    def test_roll(self):\\n        rolls = self.die.roll(5)\\n        self.assertEqual(len(rolls), 5)\\n        self.assertTrue(all(r in [1, 2, 3] for r in rolls))\\n\\n    def test_show_structure(self):\\n        df = self.die.show()\\n        self.assertIn('face', df.columns)\\n        self.assertIn('weight', df.columns)\\n\\nclass TestGame(unittest.TestCase):\\n\\n    def setUp(self):\\n        die1 = Die([1, 2])\\n        die2 = Die(['A', 'B'])\\n        self.game = Game([die1, die2])\\n\\n    def test_play(self):\\n        self.game.play(10)\\n        results = self.game.show('wide')\\n        self.assertEqual(results.shape, (10, 2))\\n\\n    def test_show_wide_format(self):\\n        self.game.play(5)\\n        wide = self.game.show('wide')\\n        self.assertEqual(wide.shape[0], 5)\\n\\n    def test_show_narrow_format(self):\\n        self.game.play(5)\\n        narrow = self.game.show('narrow')\\n        self.assertIn('face', narrow.columns)\\n\\n    def test_show_die(self):\\n        die_info = self.game.show_die(0)\\n        self.assertIsInstance(die_info, pd.DataFrame)\\n        \\n    def test_game_invalid_dice(self):\\n        with self.assertRaises(TypeError):\\n            Game(['not_a_die'])\\n\\n\\nclass TestAnalyzer(unittest.TestCase):\\n\\n    def setUp(self):\\n        die = Die(['H', 'T'])\\n        self.game = Game([die, die, die])\\n        self.game.play(20)\\n        self.analyzer = Analyzer(self.game)\\n\\n    def test_jackpot(self):\\n        jackpot_count = self.analyzer.jackpot()\\n        self.assertIsInstance(jackpot_count, int)\\n\\n    def test_combo(self):\\n        combo_df = self.analyzer.combo()\\n        self.assertIn('count', combo_df.columns)\\n\\n    def test_face_counts_per_roll(self):\\n        face_counts = self.analyzer.face_counts_per_roll()\\n        self.assertEqual(face_counts.shape[0], 20)\\n    \\n    def test_analyzer_invalid_game(self):\\n        bad_game = Game([])\\n        with self.assertRaises(ValueError):\\n            Analyzer(bad_game)\\n\\n\\nif __name__ == '__main__':\\n    unittest.main()\\n    \""
      ]
     },
     "execution_count": 15,
     "metadata": {},
     "output_type": "execute_result"
    }
   ],
   "source": [
    "# A code block with your test code.\n",
    "''' import unittest\n",
    "import unittest\n",
    "import pandas as pd\n",
    "from montecarlo import Die, Game, Analyzer\n",
    "\n",
    "class TestDie(unittest.TestCase):\n",
    "\n",
    "    def setUp(self):\n",
    "        self.die = Die([1, 2, 3])\n",
    "\n",
    "    def test_init(self):\n",
    "        self.assertEqual(len(self.die.show()), 3)\n",
    "\n",
    "    def test_change_weight(self):\n",
    "        self.die.change_weight(2, 3)\n",
    "        updated_weight = self.die.show().loc[self.die.show()['face'] == 2, 'weight'].values[0]\n",
    "        self.assertEqual(updated_weight, 3.5)\n",
    "\n",
    "    def test_roll(self):\n",
    "        rolls = self.die.roll(5)\n",
    "        self.assertEqual(len(rolls), 5)\n",
    "        self.assertTrue(all(r in [1, 2, 3] for r in rolls))\n",
    "\n",
    "    def test_show_structure(self):\n",
    "        df = self.die.show()\n",
    "        self.assertIn('face', df.columns)\n",
    "        self.assertIn('weight', df.columns)\n",
    "\n",
    "class TestGame(unittest.TestCase):\n",
    "\n",
    "    def setUp(self):\n",
    "        die1 = Die([1, 2])\n",
    "        die2 = Die(['A', 'B'])\n",
    "        self.game = Game([die1, die2])\n",
    "\n",
    "    def test_play(self):\n",
    "        self.game.play(10)\n",
    "        results = self.game.show('wide')\n",
    "        self.assertEqual(results.shape, (10, 2))\n",
    "\n",
    "    def test_show_wide_format(self):\n",
    "        self.game.play(5)\n",
    "        wide = self.game.show('wide')\n",
    "        self.assertEqual(wide.shape[0], 5)\n",
    "\n",
    "    def test_show_narrow_format(self):\n",
    "        self.game.play(5)\n",
    "        narrow = self.game.show('narrow')\n",
    "        self.assertIn('face', narrow.columns)\n",
    "\n",
    "    def test_show_die(self):\n",
    "        die_info = self.game.show_die(0)\n",
    "        self.assertIsInstance(die_info, pd.DataFrame)\n",
    "        \n",
    "    def test_game_invalid_dice(self):\n",
    "        with self.assertRaises(TypeError):\n",
    "            Game(['not_a_die'])\n",
    "\n",
    "\n",
    "class TestAnalyzer(unittest.TestCase):\n",
    "\n",
    "    def setUp(self):\n",
    "        die = Die(['H', 'T'])\n",
    "        self.game = Game([die, die, die])\n",
    "        self.game.play(20)\n",
    "        self.analyzer = Analyzer(self.game)\n",
    "\n",
    "    def test_jackpot(self):\n",
    "        jackpot_count = self.analyzer.jackpot()\n",
    "        self.assertIsInstance(jackpot_count, int)\n",
    "\n",
    "    def test_combo(self):\n",
    "        combo_df = self.analyzer.combo()\n",
    "        self.assertIn('count', combo_df.columns)\n",
    "\n",
    "    def test_face_counts_per_roll(self):\n",
    "        face_counts = self.analyzer.face_counts_per_roll()\n",
    "        self.assertEqual(face_counts.shape[0], 20)\n",
    "    \n",
    "    def test_analyzer_invalid_game(self):\n",
    "        bad_game = Game([])\n",
    "        with self.assertRaises(ValueError):\n",
    "            Analyzer(bad_game)\n",
    "\n",
    "\n",
    "if __name__ == '__main__':\n",
    "    unittest.main()\n",
    "    '''"
   ]
  },
  {
   "cell_type": "markdown",
   "id": "3e058d03-29bc-408f-b36d-0605b4f4b8c0",
   "metadata": {
    "tags": []
   },
   "source": [
    "## Unittest Results (3)\n",
    "\n",
    "Put a copy of the results of running your tests from the command line here.\n",
    "\n",
    "Again, paste as text using triple backticks.\n",
    "\n",
    "- All 12 specified methods return OK (3; .25 each)."
   ]
  },
  {
   "cell_type": "raw",
   "id": "54691fd0-836c-43c7-adc9-4a09d8aa9ab2",
   "metadata": {
    "tags": []
   },
   "source": [
    "# A text block with the output of a successful test.\n",
    "bash-4.4$python -m unittest test_montecarlo\n",
    ".............\n",
    "----------------------------------------------------------------------\n",
    "Ran 13 tests in 0.022s\n",
    "\n",
    "OK"
   ]
  },
  {
   "cell_type": "markdown",
   "id": "d9ffe8c5-eb2f-4ad1-af76-a46550e4c7ac",
   "metadata": {},
   "source": [
    "## Import (1)\n",
    "\n",
    "Import your module here. This import should refer to the code in your package directory.\n",
    "\n",
    "- Module successuflly imported (1)."
   ]
  },
  {
   "cell_type": "code",
   "execution_count": 16,
   "id": "a05dffb3-e6d6-4f78-9df4-5abd0cf74ca9",
   "metadata": {
    "tags": []
   },
   "outputs": [],
   "source": [
    "# e.g. import montecarlo.montecarlo \n",
    "import montecarlo.montecarlo"
   ]
  },
  {
   "cell_type": "markdown",
   "id": "f30c4842-65b1-4556-98b6-3fe1a07e1371",
   "metadata": {},
   "source": [
    "## Help Docs (4)\n",
    "\n",
    "Show your docstring documentation by applying `help()` to your imported module.\n",
    "\n",
    "- All methods have a docstring (3; .25 each).\n",
    "- All classes have a docstring (1; .33 each)."
   ]
  },
  {
   "cell_type": "code",
   "execution_count": 19,
   "id": "bf4fbf1f-9885-471c-a0a6-e9ca90e160de",
   "metadata": {
    "tags": []
   },
   "outputs": [
    {
     "name": "stdout",
     "output_type": "stream",
     "text": [
      "Help on package montecarlo:\n",
      "\n",
      "NAME\n",
      "    montecarlo\n",
      "\n",
      "PACKAGE CONTENTS\n",
      "    montecarlo\n",
      "    test_montecarlo\n",
      "\n",
      "FILE\n",
      "    /sfs/gpfs/tardis/home/cm9qj/Documents/MSDS/DS5100/DS5100_Project_CM9QJ/Project/montecarlo/__init__.py\n",
      "\n",
      "\n",
      "Help on class Die in module montecarlo.montecarlo:\n",
      "\n",
      "class Die(builtins.object)\n",
      " |  A die has N faces, each with an associated weight, and can be rolled.\n",
      " |  \n",
      " |  Methods defined here:\n",
      " |  \n",
      " |  __init__(self, faces)\n",
      " |      Initialize a die with faces and equal default weights.\n",
      " |  \n",
      " |  change_weight(self, face, weight)\n",
      " |      Change the weight for a single face.\n",
      " |  \n",
      " |  roll(self, num_rolls=1)\n",
      " |      Roll the die one or more times.\n",
      " |  \n",
      " |  show(self)\n",
      " |      Return the current faces and weights of the die.\n",
      " |  \n",
      " |  ----------------------------------------------------------------------\n",
      " |  Data descriptors defined here:\n",
      " |  \n",
      " |  __dict__\n",
      " |      dictionary for instance variables (if defined)\n",
      " |  \n",
      " |  __weakref__\n",
      " |      list of weak references to the object (if defined)\n",
      "\n",
      "Help on class Game in module montecarlo.montecarlo:\n",
      "\n",
      "class Game(builtins.object)\n",
      " |  A game consists of rolling one or more dice of the same kind one or more times.\n",
      " |  \n",
      " |  Methods defined here:\n",
      " |  \n",
      " |  __init__(self, dice)\n",
      " |      Initialize with a list of Die objects.\n",
      " |  \n",
      " |  play(self, num_rolls)\n",
      " |      Roll all dice num_rolls times.\n",
      " |  \n",
      " |  show(self, form='wide')\n",
      " |      Display results in 'wide' or 'narrow' format.\n",
      " |  \n",
      " |  show_die(self, die_index=0)\n",
      " |      Show the faces and weights of a particular die.\n",
      " |  \n",
      " |  ----------------------------------------------------------------------\n",
      " |  Data descriptors defined here:\n",
      " |  \n",
      " |  __dict__\n",
      " |      dictionary for instance variables (if defined)\n",
      " |  \n",
      " |  __weakref__\n",
      " |      list of weak references to the object (if defined)\n",
      "\n",
      "Help on class Analyzer in module montecarlo.montecarlo:\n",
      "\n",
      "class Analyzer(builtins.object)\n",
      " |  Analyzes a game's results for jackpots, combos, and face counts.\n",
      " |  \n",
      " |  Methods defined here:\n",
      " |  \n",
      " |  __init__(self, game)\n",
      " |      Initialize with a played Game object.\n",
      " |  \n",
      " |  combo(self)\n",
      " |      Return a dataframe of unique roll combinations and counts.\n",
      " |  \n",
      " |  face_counts_per_roll(self)\n",
      " |      Return a dataframe showing how often each face appeared per roll.\n",
      " |  \n",
      " |  jackpot(self)\n",
      " |      Return the number of rolls with all faces matching.\n",
      " |  \n",
      " |  relative_frequency(self)\n",
      " |      Compute the relative frequency of jackpots as the number of jackpots over the total number of rolls.\n",
      " |  \n",
      " |  ----------------------------------------------------------------------\n",
      " |  Data descriptors defined here:\n",
      " |  \n",
      " |  __dict__\n",
      " |      dictionary for instance variables (if defined)\n",
      " |  \n",
      " |  __weakref__\n",
      " |      list of weak references to the object (if defined)\n",
      "\n"
     ]
    }
   ],
   "source": [
    "# help(montecarlo)\n",
    "from montecarlo import Die, Game, Analyzer\n",
    "help(montecarlo)\n",
    "help(Die)\n",
    "help(Game)\n",
    "help(Analyzer)"
   ]
  },
  {
   "cell_type": "markdown",
   "id": "a9defa84-b395-4966-bd1c-5c6c2bb7ed68",
   "metadata": {},
   "source": [
    "## `README.md` File (3)\n",
    "\n",
    "Provide link to the README.md file of your project's repo.\n",
    "\n",
    "- Metadata section or info present (1).\n",
    "- Synopsis section showing how each class is called (1). (All must be included.)\n",
    "- API section listing all classes and methods (1). (All must be included.)"
   ]
  },
  {
   "cell_type": "markdown",
   "id": "ee090b33-d593-48a0-bf35-e739cea0942c",
   "metadata": {},
   "source": [
    "URL: https://github.com/cmerriwe/DS5100_Project_CM9QJ/blob/main/README.md"
   ]
  },
  {
   "cell_type": "markdown",
   "id": "108604c8-8827-42ef-ab59-6b25428fc0ca",
   "metadata": {},
   "source": [
    "## Successful installation (2)\n",
    "\n",
    "Put a screenshot or paste a copy of a terminal session where you successfully install your module with pip.\n",
    "\n",
    "If pasting text, use a preformatted text block to show the results.\n",
    "\n",
    "- Installed with `pip` (1).\n",
    "- Successfully installed message appears (1)."
   ]
  },
  {
   "cell_type": "raw",
   "id": "1278db6a-aa53-4e5c-a749-93a87ab239e0",
   "metadata": {},
   "source": [
    "# Pasted code\n",
    "bash-4.4$ pip install .\n",
    "Defaulting to user installation because normal site-packages is not writeable\n",
    "Processing /sfs/gpfs/tardis/home/cm9qj/Documents/MSDS/DS5100/DS5100_Project_CM9QJ/Project\n",
    "  Preparing metadata (setup.py) ... done\n",
    "Building wheels for collected packages: montecarlo\n",
    "  Building wheel for montecarlo (setup.py) ... done\n",
    "  Created wheel for montecarlo: filename=montecarlo-0.1-py3-none-any.whl size=2538 sha256=b224a6c7dfe191420da1df38b13adef4c8100e4bab07fdf432760b8c816edcb8\n",
    "  Stored in directory: /tmp/pip-ephem-wheel-cache-b7h_pyq9/wheels/b9/29/a6/79b0f8550473632289b5dda0a5f4b4ee73d408eac44bc9e7d4\n",
    "Successfully built montecarlo\n",
    "Installing collected packages: montecarlo\n",
    "Successfully installed montecarlo-0.1"
   ]
  },
  {
   "cell_type": "markdown",
   "id": "7c44695d-d1b3-4edf-9f94-e64d7446f199",
   "metadata": {},
   "source": [
    "# Scenarios\n",
    "\n",
    "Use code blocks to perform the tasks for each scenario.\n",
    "\n",
    "Be sure the outputs are visible before submitting."
   ]
  },
  {
   "cell_type": "markdown",
   "id": "e2479eae-6fc9-44cd-b8d7-9b22cb501f2a",
   "metadata": {
    "tags": []
   },
   "source": [
    "## Scenario 1: A 2-headed Coin (9)\n",
    "\n",
    "Task 1. Create a fair coin (with faces $H$ and $T$) and one unfair coin in which one of the faces has a weight of $5$ and the others $1$.\n",
    "\n",
    "- Fair coin created (1).\n",
    "- Unfair coin created with weight as specified (1)."
   ]
  },
  {
   "cell_type": "code",
   "execution_count": 20,
   "id": "55ce498e-c75f-4425-9e3e-b635bd6cd9e1",
   "metadata": {},
   "outputs": [
    {
     "name": "stdout",
     "output_type": "stream",
     "text": [
      "Fair Coin:\n",
      "  face  weight\n",
      "0    H     1.0\n",
      "1    T     1.0\n",
      "\n",
      "Unfair Coin:\n",
      "  face  weight\n",
      "0    H     5.0\n",
      "1    T     1.0\n"
     ]
    }
   ],
   "source": [
    "from montecarlo import Die\n",
    "\n",
    "fair_coin = Die(['H', 'T'])\n",
    "\n",
    "unfair_coin = Die(['H', 'T'])\n",
    "unfair_coin.change_weight('H', 5)\n",
    "\n",
    "print(\"Fair Coin:\")\n",
    "print(fair_coin.show())\n",
    "\n",
    "print(\"\\nUnfair Coin:\")\n",
    "print(unfair_coin.show())"
   ]
  },
  {
   "cell_type": "markdown",
   "id": "02b272ab-99da-4b6e-ac2a-555b73e09c07",
   "metadata": {},
   "source": [
    "Task 2. Play a game of $1000$ flips with two fair dice.\n",
    "\n",
    "- Play method called correclty and without error (1)."
   ]
  },
  {
   "cell_type": "code",
   "execution_count": 22,
   "id": "65c92601-d32d-4326-b215-74953aee27f2",
   "metadata": {},
   "outputs": [
    {
     "name": "stdout",
     "output_type": "stream",
     "text": [
      "Results of 1000 flips with two fair coins:\n",
      "   roll_number level_1 face\n",
      "0            0   die_0    T\n",
      "1            0   die_1    H\n",
      "2            1   die_0    H\n",
      "3            1   die_1    H\n",
      "4            2   die_0    H\n"
     ]
    }
   ],
   "source": [
    "from montecarlo import Game\n",
    "\n",
    "fair_game = Game([fair_coin, fair_coin])\n",
    "\n",
    "fair_game.play(1000)\n",
    "\n",
    "print(\"Results of 1000 flips with two fair coins:\")\n",
    "print(fair_game.show('narrow').head())\n"
   ]
  },
  {
   "cell_type": "markdown",
   "id": "7d9c3dc8-22c1-4cae-81fb-d68d774a05d1",
   "metadata": {},
   "source": [
    "Task 3. Play another game (using a new Game object) of $1000$ flips, this time using two unfair dice and one fair die. For the second unfair die, you can use the same die object twice in the list of dice you pass to the Game object.\n",
    "\n",
    "- New game object created (1).\n",
    "- Play method called correclty and without error (1)."
   ]
  },
  {
   "cell_type": "code",
   "execution_count": 23,
   "id": "d4098bed-1eb2-4084-8d5e-9fda07c3be43",
   "metadata": {},
   "outputs": [
    {
     "name": "stdout",
     "output_type": "stream",
     "text": [
      "New game played with 1000 flips:\n",
      "            die_0 die_1 die_2\n",
      "roll_number                  \n",
      "0               H     H     T\n",
      "1               H     H     H\n",
      "2               H     T     T\n",
      "3               T     H     T\n",
      "4               H     H     H\n"
     ]
    }
   ],
   "source": [
    "from montecarlo import Game\n",
    "\n",
    "new_game = Game([unfair_coin, unfair_coin, fair_coin])\n",
    "\n",
    "new_game.play(1000)\n",
    "\n",
    "print(\"New game played with 1000 flips:\")\n",
    "print(new_game.show('wide').head())"
   ]
  },
  {
   "cell_type": "markdown",
   "id": "f690ebfc-fe71-4eb2-976d-7ac80ca6c23f",
   "metadata": {},
   "source": [
    "Task 4. For each game, use an Analyzer object to determine the raw frequency of jackpots — i.e. getting either all $H$s or all $T$s.\n",
    "\n",
    "- Analyzer objecs instantiated for both games (1).\n",
    "- Raw frequencies reported for both (1)."
   ]
  },
  {
   "cell_type": "code",
   "execution_count": 24,
   "id": "b26b8b7e-3be7-4476-a9a4-37d97536729e",
   "metadata": {},
   "outputs": [
    {
     "name": "stdout",
     "output_type": "stream",
     "text": [
      "Number of jackpots in fair coin game: 503\n",
      "Number of jackpots in unfair coin game: 375\n"
     ]
    }
   ],
   "source": [
    "from montecarlo import Analyzer\n",
    "\n",
    "analyze_fair = Analyzer(fair_game)\n",
    "analyze_unfair = Analyzer(new_game)\n",
    "\n",
    "# Get raw jackpot counts\n",
    "jackpot_fair = analyze_fair.jackpot()\n",
    "jackpot_unfair = analyze_unfair.jackpot()\n",
    "\n",
    "# Show results\n",
    "print(f\"Number of jackpots in fair coin game: {jackpot_fair}\")\n",
    "print(f\"Number of jackpots in unfair coin game: {jackpot_unfair}\")"
   ]
  },
  {
   "cell_type": "markdown",
   "id": "b73d233c-445e-40cd-8858-0c5e1f097105",
   "metadata": {
    "tags": []
   },
   "source": [
    "Task 5. For each analyzer, compute relative frequency as the number of jackpots over the total number of rolls.\n",
    "\n",
    "- Both relative frequencies computed (1)."
   ]
  },
  {
   "cell_type": "code",
   "execution_count": 26,
   "id": "9a96b31b-1b9d-496e-be3e-4bf83c45ec3a",
   "metadata": {},
   "outputs": [
    {
     "name": "stdout",
     "output_type": "stream",
     "text": [
      "Relative frequency of jackpots in fair coin game: 0.5030\n",
      "Relative frequency of jackpots in unfair coin game: 0.3750\n"
     ]
    }
   ],
   "source": [
    "total_rolls_fair = analyze_fair.game._results.shape[0]\n",
    "total_rolls_unfair = analyze_unfair.game._results.shape[0]\n",
    "\n",
    "relative_freq_fair = jackpot_fair / total_rolls_fair\n",
    "relative_freq_unfair = jackpot_unfair / total_rolls_unfair\n",
    "\n",
    "print(f\"Relative frequency of jackpots in fair coin game: {relative_freq_fair:.4f}\")\n",
    "print(f\"Relative frequency of jackpots in unfair coin game: {relative_freq_unfair:.4f}\")"
   ]
  },
  {
   "cell_type": "markdown",
   "id": "a6e1e734-7f5c-4721-8ba4-2f3a424cf984",
   "metadata": {},
   "source": [
    "Task 6. Show your results, comparing the two relative frequencies, in a simple bar chart.\n",
    "\n",
    "- Bar chart plotted and correct (1)."
   ]
  },
  {
   "cell_type": "code",
   "execution_count": 28,
   "id": "473fa67c-aa53-4aa3-a0b7-e8772b3f6ed3",
   "metadata": {},
   "outputs": [
    {
     "data": {
      "image/png": "[encoded data removed]",
      "text/plain": [
       "<Figure size 432x288 with 1 Axes>"
      ]
     },
     "metadata": {
      "needs_background": "light"
     },
     "output_type": "display_data"
    }
   ],
   "source": [
    "import matplotlib.pyplot as plt\n",
    "\n",
    "# Prepare data\n",
    "labels = ['Fair Coin', 'Unfair Coin']\n",
    "relative_frequencies = [relative_freq_fair, relative_freq_unfair]\n",
    "\n",
    "plt.bar(labels, relative_frequencies, color=['red', 'blue'])\n",
    "plt.ylabel('Relative Frequency of Jackpot')\n",
    "plt.title('Comparison of Jackpot Relative Frequencies')\n",
    "plt.ylim(0, 1)  # Since relative frequencies are between 0 and 1\n",
    "plt.show()"
   ]
  },
  {
   "cell_type": "markdown",
   "id": "725cfa5b-e4b7-47c9-86aa-8d9e1fe6c8c7",
   "metadata": {},
   "source": [
    "## Scenario 2: A 6-sided Die (9)\n",
    "\n",
    "Task 1. Create three dice, each with six sides having the faces 1 through 6.\n",
    "\n",
    "- Three die objects created (1)."
   ]
  },
  {
   "cell_type": "code",
   "execution_count": 30,
   "id": "6a8bc611-325a-4e05-88d5-980e0a2cf7c5",
   "metadata": {},
   "outputs": [
    {
     "name": "stdout",
     "output_type": "stream",
     "text": [
      "Die 1:\n",
      "   face  weight\n",
      "0     1     1.0\n",
      "1     2     1.0\n",
      "2     3     1.0\n",
      "3     4     1.0\n",
      "4     5     1.0\n",
      "5     6     1.0\n",
      "\n",
      "Die 2:\n",
      "   face  weight\n",
      "0     1     1.0\n",
      "1     2     1.0\n",
      "2     3     1.0\n",
      "3     4     1.0\n",
      "4     5     1.0\n",
      "5     6     1.0\n",
      "\n",
      "Die 3:\n",
      "   face  weight\n",
      "0     1     1.0\n",
      "1     2     1.0\n",
      "2     3     1.0\n",
      "3     4     1.0\n",
      "4     5     1.0\n",
      "5     6     1.0\n"
     ]
    }
   ],
   "source": [
    "die1 = Die([1, 2, 3, 4, 5, 6])\n",
    "die2 = Die([1, 2, 3, 4, 5, 6])\n",
    "die3 = Die([1, 2, 3, 4, 5, 6])\n",
    "\n",
    "print(\"Die 1:\")\n",
    "print(die1.show())\n",
    "\n",
    "print(\"\\nDie 2:\")\n",
    "print(die2.show())\n",
    "\n",
    "print(\"\\nDie 3:\")\n",
    "print(die3.show())"
   ]
  },
  {
   "cell_type": "markdown",
   "id": "2ed3ad26-fbe9-43bd-9ad7-f683a4191d12",
   "metadata": {},
   "source": [
    "Task 2. Convert one of the dice to an unfair one by weighting the face $6$ five times more than the other weights (i.e. it has weight of 5 and the others a weight of 1 each).\n",
    "\n",
    "- Unfair die created with proper call to weight change method (1)."
   ]
  },
  {
   "cell_type": "code",
   "execution_count": 9,
   "id": "e33dd18f-7f90-456d-a680-61c08a328e21",
   "metadata": {},
   "outputs": [
    {
     "name": "stdout",
     "output_type": "stream",
     "text": [
      "Updated Unfair Die (die1):\n",
      "   face  weight\n",
      "0     1     1.0\n",
      "1     2     1.0\n",
      "2     3     1.0\n",
      "3     4     1.0\n",
      "4     5     1.0\n",
      "5     6     5.0\n"
     ]
    }
   ],
   "source": [
    "# Make die1 unfair by increasing weight for face 6\n",
    "die1.change_weight(6, 5)\n",
    "\n",
    "# Show updated die to confirm\n",
    "print(\"Updated Unfair Die (die1):\")\n",
    "print(die1.show())"
   ]
  },
  {
   "cell_type": "markdown",
   "id": "7f6c062a-4c5b-45b9-96b8-76a0354c7e47",
   "metadata": {},
   "source": [
    "Task 3. Convert another of the dice to be unfair by weighting the face $1$ five times more than the others.\n",
    "\n",
    "- Unfair die created with proper call to weight change method (1)."
   ]
  },
  {
   "cell_type": "code",
   "execution_count": 35,
   "id": "01133a4e-6b06-4246-8d90-8e6d6995be51",
   "metadata": {},
   "outputs": [
    {
     "name": "stdout",
     "output_type": "stream",
     "text": [
      "Updated Unfair Die (die2):\n",
      "   face  weight\n",
      "0     1     5.0\n",
      "1     2     1.0\n",
      "2     3     1.0\n",
      "3     4     1.0\n",
      "4     5     1.0\n",
      "5     6     1.0\n"
     ]
    }
   ],
   "source": [
    "die2.change_weight(1, 5)\n",
    "\n",
    "# Show updated die to confirm\n",
    "print(\"Updated Unfair Die (die2):\")\n",
    "print(die2.show())"
   ]
  },
  {
   "cell_type": "markdown",
   "id": "f0ed31cb-0a3c-4eb2-b85e-6ed6b2eb6e58",
   "metadata": {},
   "source": [
    "Task 4. Play a game of $10000$ rolls with $5$ fair dice.\n",
    "\n",
    "- Game class properly instantiated (1). \n",
    "- Play method called properly (1)."
   ]
  },
  {
   "cell_type": "code",
   "execution_count": 33,
   "id": "e92395a4-9ed8-4cb0-8c85-38768a784ffc",
   "metadata": {},
   "outputs": [
    {
     "name": "stdout",
     "output_type": "stream",
     "text": [
      "10,000 rolls with 5 fair dice (Results):\n",
      "             die_0  die_1  die_2  die_3  die_4\n",
      "roll_number                                   \n",
      "0                3      1      4      4      1\n",
      "1                1      1      2      2      1\n",
      "2                1      2      2      2      2\n",
      "3                1      1      3      4      1\n",
      "4                1      4      2      6      3\n"
     ]
    }
   ],
   "source": [
    "from montecarlo import Game\n",
    "\n",
    "die4 = Die([1, 2, 3, 4, 5, 6])\n",
    "die5 = Die([1, 2, 3, 4, 5, 6])\n",
    "die6 = Die([1, 2, 3, 4, 5, 6])\n",
    "\n",
    "fair_dice_game = Game([die2, die3, die4, die5, die6])\n",
    "\n",
    "fair_dice_game.play(10000)\n",
    "\n",
    "print(\"10,000 rolls with 5 fair dice (Results):\")\n",
    "print(fair_dice_game.show('wide').head())\n"
   ]
  },
  {
   "cell_type": "markdown",
   "id": "7814b402-46a4-40e5-8141-20e05c3e646b",
   "metadata": {},
   "source": [
    "Task 5. Play another game of $10000$ rolls, this time with $2$ unfair dice, one as defined in steps #2 and #3 respectively, and $3$ fair dice.\n",
    "\n",
    "- Game class properly instantiated (1). \n",
    "- Play method called properly (1)."
   ]
  },
  {
   "cell_type": "code",
   "execution_count": 36,
   "id": "7cd58fba-b2a5-4d5d-bc6d-2a7a68d18c4f",
   "metadata": {},
   "outputs": [
    {
     "name": "stdout",
     "output_type": "stream",
     "text": [
      "10,000 rolls with 2 unfair and 3 fair dice (Results):\n",
      "             die_0  die_1  die_2  die_3  die_4\n",
      "roll_number                                   \n",
      "0                6      1      6      3      3\n",
      "1                6      1      4      4      4\n",
      "2                4      1      4      6      4\n",
      "3                6      6      4      3      3\n",
      "4                4      5      2      5      2\n"
     ]
    }
   ],
   "source": [
    "die7 = Die([1, 2, 3, 4, 5, 6])\n",
    "die8 = Die([1, 2, 3, 4, 5, 6])\n",
    "die9 = Die([1, 2, 3, 4, 5, 6])\n",
    "\n",
    "mixed_dice_game = Game([die1, die2, die7, die8, die9])\n",
    "\n",
    "mixed_dice_game.play(10000)\n",
    "\n",
    "print(\"10,000 rolls with 2 unfair and 3 fair dice (Results):\")\n",
    "print(mixed_dice_game.show('wide').head())\n"
   ]
  },
  {
   "cell_type": "markdown",
   "id": "7b6cd372-2bb8-4df8-ade1-8f48bc300955",
   "metadata": {},
   "source": [
    "Task 6. For each game, use an Analyzer object to determine the relative frequency of jackpots and show your results, comparing the two relative frequencies, in a simple bar chart.\n",
    "\n",
    "- Jackpot methods called (1).\n",
    "- Graph produced (1)."
   ]
  },
  {
   "cell_type": "code",
   "execution_count": 37,
   "id": "bbdcf695-8937-406e-9b53-aa0b9ee3c59a",
   "metadata": {},
   "outputs": [
    {
     "name": "stdout",
     "output_type": "stream",
     "text": [
      "Relative frequency of jackpots (Fair dice): 0.0006\n",
      "Relative frequency of jackpots (Mixed dice): 0.0005\n"
     ]
    },
    {
     "data": {
      "image/png": "[encoded data removed]",
      "text/plain": [
       "<Figure size 432x288 with 1 Axes>"
      ]
     },
     "metadata": {
      "needs_background": "light"
     },
     "output_type": "display_data"
    }
   ],
   "source": [
    "from montecarlo import Analyzer\n",
    "import matplotlib.pyplot as plt\n",
    "\n",
    "analyze_fair_dice = Analyzer(fair_dice_game)\n",
    "analyze_mixed_dice = Analyzer(mixed_dice_game)\n",
    "\n",
    "jackpot_count_fair = analyze_fair_dice.jackpot()\n",
    "jackpot_count_mixed = analyze_mixed_dice.jackpot()\n",
    "\n",
    "total_rolls_fair = fair_dice_game.show('wide').shape[0]\n",
    "total_rolls_mixed = mixed_dice_game.show('wide').shape[0]\n",
    "\n",
    "relative_freq_fair = jackpot_count_fair / total_rolls_fair\n",
    "relative_freq_mixed = jackpot_count_mixed / total_rolls_mixed\n",
    "\n",
    "print(f\"Relative frequency of jackpots (Fair dice): {relative_freq_fair:.4f}\")\n",
    "print(f\"Relative frequency of jackpots (Mixed dice): {relative_freq_mixed:.4f}\")\n",
    "\n",
    "labels = ['Fair Dice', 'Mixed Dice']\n",
    "frequencies = [relative_freq_fair, relative_freq_mixed]\n",
    "\n",
    "plt.bar(labels, frequencies, color=['blue', 'green'])\n",
    "plt.ylabel('Relative Frequency of Jackpots')\n",
    "plt.title('Jackpot Frequencies: Fair vs Mixed Dice')\n",
    "plt.ylim(0, 1)\n",
    "plt.show()\n"
   ]
  },
  {
   "cell_type": "markdown",
   "id": "9f04e9be-8fcf-4ea4-a391-6614608285f8",
   "metadata": {},
   "source": [
    "## Scenario 3: Letters of the Alphabet (7)\n",
    "\n",
    "Task 1. Create a \"die\" of letters from $A$ to $Z$ with weights based on their frequency of usage as found in the data file `english_letters.txt`. Use the frequencies (i.e. raw counts) as weights.\n",
    "\n",
    "- Die correctly instantiated with source file data (1).\n",
    "- Weights properly applied using weight setting method (1)."
   ]
  },
  {
   "cell_type": "code",
   "execution_count": 39,
   "id": "b0ceb771-3cdf-4d8f-8c2c-020806bbb909",
   "metadata": {},
   "outputs": [
    {
     "name": "stdout",
     "output_type": "stream",
     "text": [
      "Alphabet Die with Frequencies Applied:\n",
      "   face       weight\n",
      "0     E  529117365.0\n",
      "1     T  390965105.0\n",
      "2     A  374061888.0\n",
      "3     O  326627740.0\n",
      "4     I  320410057.0\n",
      "5     N  313720540.0\n",
      "6     S  294300210.0\n",
      "7     R  277000841.0\n",
      "8     H  216768975.0\n",
      "9     L  183996130.0\n",
      "10    D  169330528.0\n",
      "11    C  138416451.0\n",
      "12    U  117295780.0\n",
      "13    M  110504544.0\n",
      "14    F   95422055.0\n",
      "15    G   91258980.0\n",
      "16    P   90376747.0\n",
      "17    W   79843664.0\n",
      "18    Y   75294515.0\n",
      "19    B   70195826.0\n",
      "20    V   46337161.0\n",
      "21    K   35373464.0\n",
      "22    J    9613410.0\n",
      "23    X    8369915.0\n",
      "24    Z    4975847.0\n",
      "25    Q    4550166.0\n"
     ]
    }
   ],
   "source": [
    "letter_weights = {}\n",
    "with open('english_letters.txt', 'r') as f:\n",
    "    for line in f:\n",
    "        parts = line.strip().split()\n",
    "        if len(parts) == 2:\n",
    "            letter, freq = parts\n",
    "            letter_weights[letter.upper()] = float(freq)\n",
    "\n",
    "from montecarlo import Die\n",
    "\n",
    "alphabet_die = Die(list(letter_weights.keys()))\n",
    "\n",
    "for letter, weight in letter_weights.items():\n",
    "    alphabet_die.change_weight(letter, weight)\n",
    "\n",
    "print(\"Alphabet Die with Frequencies Applied:\")\n",
    "print(alphabet_die.show())"
   ]
  },
  {
   "cell_type": "markdown",
   "id": "88e2e14a-6223-470a-a2c8-bca1120d7a5b",
   "metadata": {},
   "source": [
    "Task 2. Play a game involving $4$ of these dice with $1000$ rolls.\n",
    "\n",
    "- Game play method properly called (1)."
   ]
  },
  {
   "cell_type": "code",
   "execution_count": 40,
   "id": "2ae087cc-936d-4f1e-bddb-a7c179d139e0",
   "metadata": {},
   "outputs": [
    {
     "name": "stdout",
     "output_type": "stream",
     "text": [
      "1000 rolls with 4 alphabet dice (Results):\n",
      "            die_0 die_1 die_2 die_3\n",
      "roll_number                        \n",
      "0               H     R     S     U\n",
      "1               D     S     E     R\n",
      "2               R     E     G     N\n",
      "3               O     P     D     U\n",
      "4               E     M     B     R\n"
     ]
    }
   ],
   "source": [
    "from montecarlo import Game\n",
    "\n",
    "alphabet_game = Game([alphabet_die, alphabet_die, alphabet_die, alphabet_die])\n",
    "\n",
    "alphabet_game.play(1000)\n",
    "\n",
    "print(\"1000 rolls with 4 alphabet dice (Results):\")\n",
    "print(alphabet_game.show('wide').head())"
   ]
  },
  {
   "cell_type": "markdown",
   "id": "3b9ff800-bf1f-4f66-9d7f-ff57a648e9f0",
   "metadata": {},
   "source": [
    "Task 3. Determine how many permutations in your results are actual English words, based on the vocabulary found in `scrabble_words.txt`.\n",
    "\n",
    "- Use permutation method (1).\n",
    "- Get count as difference between permutations and vocabulary (1)."
   ]
  },
  {
   "cell_type": "code",
   "execution_count": 41,
   "id": "ed1c7fa0-cfa3-4cf4-9fd0-9f84b86b0f64",
   "metadata": {},
   "outputs": [
    {
     "name": "stdout",
     "output_type": "stream",
     "text": [
      "Number of valid English words formed from dice rolls: 527\n"
     ]
    }
   ],
   "source": [
    "import itertools\n",
    "\n",
    "with open('scrabble_words.txt', 'r') as f:\n",
    "    scrabble_words = set(word.strip().upper() for word in f)\n",
    "\n",
    "results = alphabet_game.show('wide')\n",
    "\n",
    "valid_word_count = 0\n",
    "\n",
    "for idx, row in results.iterrows():\n",
    "    letters = row.values\n",
    "    perms = set(''.join(p) for p in itertools.permutations(letters))\n",
    "    if perms & scrabble_words:\n",
    "        valid_word_count += 1\n",
    "\n",
    "print(f\"Number of valid English words formed from dice rolls: {valid_word_count}\")"
   ]
  },
  {
   "cell_type": "markdown",
   "id": "fcf068cf-381a-4b3e-ac3a-0510eb4dbdb0",
   "metadata": {},
   "source": [
    "Task 4. Repeat steps #2 and #3, this time with $5$ dice. How many actual words does this produce? Which produces more?\n",
    "\n",
    "- Successfully repreats steps (1).\n",
    "- Identifies parameter with most found words (1)."
   ]
  },
  {
   "cell_type": "code",
   "execution_count": 42,
   "id": "07e5d395-f265-476e-b8a8-2d2e4fd31f0b",
   "metadata": {
    "tags": []
   },
   "outputs": [
    {
     "name": "stdout",
     "output_type": "stream",
     "text": [
      "Number of valid English words formed: 302\n",
      "\n",
      "Comparison:\n",
      "Words with 4 dice: 527\n",
      "Words with 5 dice: 302\n",
      "Using 4 dice produced more words.\n"
     ]
    }
   ],
   "source": [
    "alphabet_game_5 = Game([alphabet_die, alphabet_die, alphabet_die, alphabet_die, alphabet_die])\n",
    "\n",
    "alphabet_game_5.play(1000)\n",
    "\n",
    "results_5 = alphabet_game_5.show('wide')\n",
    "\n",
    "valid_word_count_5 = 0\n",
    "\n",
    "for idx, row in results_5.iterrows():\n",
    "    letters = row.values\n",
    "    perms = set(''.join(p) for p in itertools.permutations(letters))\n",
    "    if perms & scrabble_words:\n",
    "        valid_word_count_5 += 1\n",
    "\n",
    "print(f\"Number of valid English words formed: {valid_word_count_5}\")\n",
    "\n",
    "print(\"\\nComparison:\")\n",
    "print(f\"Words with 4 dice: {valid_word_count}\")\n",
    "print(f\"Words with 5 dice: {valid_word_count_5}\")\n",
    "\n",
    "if valid_word_count > valid_word_count_5:\n",
    "    print(\"Using 4 dice produced more words.\")\n",
    "elif valid_word_count_5 > valid_word_count:\n",
    "    print(\"Using 5 dice produced more words.\")\n",
    "else:\n",
    "    print(\"Both produced the same number of words.\")\n"
   ]
  },
  {
   "cell_type": "code",
   "execution_count": null,
   "id": "9e6ab8d1-bd33-46be-b639-6c774da5580a",
   "metadata": {},
   "outputs": [],
   "source": []
  }
 ],
 "metadata": {
  "kernelspec": {
   "display_name": "AMPTorch (20201028) Active Learning",
   "language": "python",
   "name": "amptorch-20201028-al"
  },
  "language_info": {
   "codemirror_mode": {
    "name": "ipython",
    "version": 3
   },
   "file_extension": ".py",
   "mimetype": "text/x-python",
   "name": "python",
   "nbconvert_exporter": "python",
   "pygments_lexer": "ipython3",
   "version": "3.6.13"
  },
  "toc-autonumbering": true,
  "widgets": {
   "application/vnd.jupyter.widget-state+json": {
    "state": {},
    "version_major": 2,
    "version_minor": 0
   }
  }
 },
 "nbformat": 4,
 "nbformat_minor": 5
}
